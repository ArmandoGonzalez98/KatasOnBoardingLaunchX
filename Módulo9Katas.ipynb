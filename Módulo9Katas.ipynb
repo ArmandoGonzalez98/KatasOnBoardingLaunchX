{
  "cells": [
    {
      "cell_type": "markdown",
      "metadata": {},
      "source": [
        "# Ejercicio: Uso de funciones en Python"
      ]
    },
    {
      "cell_type": "markdown",
      "metadata": {},
      "source": [
        "### Ejercicio 1: Trabajar con argumentos en funciones\n",
        "\n",
        "Los argumentos requeridos en las funciones se utilizan cuando las funciones necesitan que esos argumentos funcionen correctamente. En este ejercicio, construirás un informe de combustible que requiere información de varias ubicaciones de combustible en todo el cohete.\n",
        "\n"
      ]
    },
    {
      "cell_type": "markdown",
      "metadata": {},
      "source": [
        "> **TIP**\n",
        "> Dedica unos minutos para tratar de encontrar una solución. Luego desplázate hacia abajo hasta la parte inferior para ver si has logrado compilar el programa de acuerdo con las especificaciones\n",
        "\n",
        "Comienza por crear una función que necesite tres lecturas de combustible y devuelva un informe:"
      ]
    },
    {
      "cell_type": "code",
      "execution_count": 17,
      "metadata": {},
      "outputs": [],
      "source": [
        "# Función para leer 3 tanques de combustible y muestre el promedio\n",
        "import numpy as np\n",
        "def combustible_promedio(t1,t2,t3):\n",
        "    prom=np.mean([t1,t2,t3])\n",
        "    reporte=(f\"\"\"Reporte:\\n El primer tanque tiene {t1} litros de combustible.\\n El segundo tanque tiene {t2} litros de combustible.\\n El tercer tanque tiene {t3} litros de combustible.\\n El promedio es {prom}\"\"\")\n",
        "    return reporte   \n"
      ]
    },
    {
      "cell_type": "markdown",
      "metadata": {},
      "source": [
        "Ahora que hemos definido la función de informes, vamos a comprobarlo. Para esta misión, los tanques no están llenos:"
      ]
    },
    {
      "cell_type": "code",
      "execution_count": 18,
      "metadata": {},
      "outputs": [
        {
          "name": "stdout",
          "output_type": "stream",
          "text": [
            "Reporte:\n",
            " El primer tanque tiene 5 litros de combustible.\n",
            " El segundo tanque tiene 6 litros de combustible.\n",
            " El tercer tanque tiene 7 litros de combustible.\n",
            " El promedio es 6.0\n"
          ]
        }
      ],
      "source": [
        "\n",
        "# Llamamos a la función que genera el reporte print(funcion(tanque1, tanque2, tanque3))\n",
        "print(combustible_promedio(5,6,7))"
      ]
    },
    {
      "cell_type": "markdown",
      "metadata": {},
      "source": [
        "En lugar de simplemente crear el informe, la función también está calculando el promedio. Mejora la legibilidad extrayendo el cálculo promedio de la función en una nueva función para que el promedio se pueda hacer de forma independiente:"
      ]
    },
    {
      "cell_type": "code",
      "execution_count": 20,
      "metadata": {},
      "outputs": [],
      "source": [
        "# Función promedio \n",
        "def promedio (t1,t2,t3):\n",
        "    prom=np.mean([t1,t2,t3])\n",
        "    return prom"
      ]
    },
    {
      "cell_type": "markdown",
      "metadata": {},
      "source": [
        "Ahora actualiza la función de informes para llamando a la nueva función del promedio:\n"
      ]
    },
    {
      "cell_type": "code",
      "execution_count": 21,
      "metadata": {},
      "outputs": [],
      "source": [
        "# Actualiza la función\n",
        "import numpy as np\n",
        "def combustible_promedio(t1,t2,t3):\n",
        "    prom=promedio(t1,t2,t3)\n",
        "    reporte=(f\"\"\"Reporte:\\n El primer tanque tiene {t1} litros de combustible.\\n El segundo tanque tiene {t2} litros de combustible.\\n El tercer tanque tiene {t3} litros de combustible.\\n El promedio es {prom}\"\"\")\n",
        "    return reporte "
      ]
    },
    {
      "cell_type": "markdown",
      "metadata": {},
      "source": [
        "> Recuerda: Lo importante es intentarlo, puedes auxiliarte de internet, libros, etc. El objetivo de una kata es la comprobación de la comprensión de la lección y su aplicación inmediata a la resolución de problemas. Go for it!"
      ]
    },
    {
      "cell_type": "markdown",
      "metadata": {},
      "source": [
        "## Ejercicio 2: Trabajo con argumentos de palabra clave"
      ]
    },
    {
      "cell_type": "markdown",
      "metadata": {},
      "source": [
        "### Ejercicio : Trabajar con argumentos de palabras clave en funciones\n",
        "En este ejercicio, construirás un informe de cohete que requiere varias piezas de información, como el tiempo hasta el destino, el combustible a la izquierda y el nombre del destino. Comienza por crear una función que creará un informe preciso de la misión:"
      ]
    },
    {
      "cell_type": "code",
      "execution_count": 23,
      "metadata": {},
      "outputs": [
        {
          "name": "stdout",
          "output_type": "stream",
          "text": [
            " \n",
            "    Mision a : Marte\n",
            "    Tiempo de viaje : 530 minutos\n",
            "    Combustible disponible:5000 galones\n",
            "    \n"
          ]
        }
      ],
      "source": [
        "# Función con un informe preciso de la misión. Considera hora de prelanzamiento, tiempo de vuelo, destino, tanque externo y tanque interno\n",
        "from datetime import timedelta, datetime\n",
        "def informe (prelanzamiento, vuelo, destino, tanque_ext, tanque_int):\n",
        "    return f\"\"\" \n",
        "    Mision a : {destino}\n",
        "    Tiempo de viaje : {prelanzamiento+vuelo} minutos\n",
        "    Combustible disponible:{tanque_ext+tanque_int} galones\n",
        "    \"\"\"\n",
        "print(informe(30,500,'Marte',3000,2000))\n",
        "    "
      ]
    },
    {
      "cell_type": "markdown",
      "metadata": {},
      "source": [
        "La función es problemática porque no se puede adaptar para minutos adicionales o tanques adicionales de combustible. Hazlo más flexible permitiendo cualquier número de pasos basados en el tiempo y cualquier número de tanques. En lugar de usar `*args` y `**kwargs`, aprovecha el hecho de que puedes usar cualquier nombre que desees. Asegurate que la función sea más legible mediante el uso de nombres de variables que están asociados con las entradas, como `*minutes` y `**fuel_reservoirs`:"
      ]
    },
    {
      "cell_type": "code",
      "execution_count": 26,
      "metadata": {},
      "outputs": [
        {
          "name": "stdout",
          "output_type": "stream",
          "text": [
            " \n",
            "    Mision a : Marte\n",
            "    Tiempo de viaje : 1130 minutos\n",
            "    Combustible disponible:dict_values([3000, 2000]) galones\n",
            "    \n"
          ]
        }
      ],
      "source": [
        "# Escribe tu nueva función de reporte considerando lo anterior\n",
        "def informe (destino, *minutes, **fuel_reservoirs):\n",
        "    return f\"\"\" \n",
        "    Mision a : {destino}\n",
        "    Tiempo de viaje : {sum(minutes)} minutos\n",
        "    Combustible disponible:{sum(fuel_reservoirs.values())} galones\n",
        "    \"\"\"\n",
        "print(informe('Marte',30,500,600,main=3000,external=2000))"
      ]
    },
    {
      "cell_type": "markdown",
      "metadata": {},
      "source": [
        "Debido a que el combustible que queda en los tanques es específico de cada tanque, actualiza la función para usar el nombre de cada tanque en el informe:"
      ]
    },
    {
      "cell_type": "code",
      "execution_count": 29,
      "metadata": {},
      "outputs": [
        {
          "name": "stdout",
          "output_type": "stream",
          "text": [
            " \n",
            "    Mision a : Marte\n",
            "    Tiempo de viaje : 1130 minutos\n",
            "    Main tanque = 3000 galones\n",
            "External tanque = 2000 galones\n",
            "\n"
          ]
        }
      ],
      "source": [
        "# Escribe tu nueva función\n",
        "def informe (destino, *minutes, **fuel_reservoirs):\n",
        "    reporte=f\"\"\" \n",
        "    Mision a : {destino}\n",
        "    Tiempo de viaje : {sum(minutes)} minutos\n",
        "    \"\"\"\n",
        "    for nombre, cantidad in fuel_reservoirs.items():\n",
        "        reporte+= f'{nombre} tanque = {cantidad} galones\\n'\n",
        "    return reporte\n",
        "print(informe('Marte',30,500,600,Main=3000,External=2000))"
      ]
    },
    {
      "cell_type": "markdown",
      "metadata": {},
      "source": [
        "Ejercicio Realizado por Armando González Martínez"
      ]
    }
  ],
  "metadata": {
    "interpreter": {
      "hash": "205095b8b86ea82a021a8fc2ffba2b3bc9f8d0be25999901963b225939f75778"
    },
    "kernelspec": {
      "display_name": "Python 3.8.10 64-bit ('tmp': conda)",
      "name": "python3"
    },
    "language_info": {
      "codemirror_mode": {
        "name": "ipython",
        "version": 3
      },
      "file_extension": ".py",
      "mimetype": "text/x-python",
      "name": "python",
      "nbconvert_exporter": "python",
      "pygments_lexer": "ipython3",
      "version": "3.10.2"
    },
    "nteract": {
      "version": "nteract-front-end@1.0.0"
    },
    "orig_nbformat": 4
  },
  "nbformat": 4,
  "nbformat_minor": 2
}
