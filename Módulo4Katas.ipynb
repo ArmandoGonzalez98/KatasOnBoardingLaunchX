{
  "cells": [
    {
      "cell_type": "markdown",
      "metadata": {},
      "source": [
        "# Ejercicio 1: Transformar cadenas\n",
        "Hay varias operaciones que puedes realizar en las cadenas cuando las manipulamos. En este ejercicio, usarás métodos de cadena para modificar el texto con hechos sobre la Luna y luego extraerás información para crear un breve resumen.\n",
        "\n",
        "> **Nota**\n",
        "> Dedica unos minutos a tratar de encontrar una solución. Luego desplázate hacia abajo hasta la parte inferior para ver si has logrado compilar el programa de acuerdo con las especificaciones."
      ]
    },
    {
      "cell_type": "markdown",
      "metadata": {},
      "source": [
        "El texto con el que trabajarás es el siguiente: "
      ]
    },
    {
      "cell_type": "code",
      "execution_count": 1,
      "metadata": {},
      "outputs": [],
      "source": [
        "text = \"\"\"Interesting facts about the Moon. The Moon is Earth's only satellite. There are several interesting facts about the Moon and how it affects life here on Earth. \n",
        "On average, the Moon moves 4cm away from the Earth every year. This yearly drift is not significant enough to cause immediate effects on Earth. The highest daylight temperature of the Moon is 127 C.\"\"\""
      ]
    },
    {
      "cell_type": "markdown",
      "metadata": {},
      "source": [
        "Primero, divide el texto en cada oración para trabajar con su contenido:"
      ]
    },
    {
      "cell_type": "code",
      "execution_count": 25,
      "metadata": {},
      "outputs": [
        {
          "data": {
            "text/plain": [
              "['Interesting facts about the Moon',\n",
              " \" The Moon is Earth's only satellite\",\n",
              " ' There are several interesting facts about the Moon and how it affects life here on Earth',\n",
              " ' \\nOn average, the Moon moves 4cm away from the Earth every year',\n",
              " ' This yearly drift is not significant enough to cause immediate effects on Earth',\n",
              " ' The highest daylight temperature of the Moon is 127 C',\n",
              " '']"
            ]
          },
          "execution_count": 25,
          "metadata": {},
          "output_type": "execute_result"
        }
      ],
      "source": [
        "# Añade el código necesario\n",
        "oraciones=text.split('.')\n",
        "oraciones"
      ]
    },
    {
      "cell_type": "markdown",
      "metadata": {},
      "source": [
        "Ahora, define algunas palabras clave para búsqueda que te ayudarán a determinar si una oración contiene un hecho."
      ]
    },
    {
      "cell_type": "code",
      "execution_count": 3,
      "metadata": {},
      "outputs": [],
      "source": [
        "# Define las palabras pista: average, temperature y distance suenan bien\n",
        "p1='average'\n",
        "p2='temperature'\n",
        "p3='distance'\n",
        "palabras_pista=[p1,p2,p3]"
      ]
    },
    {
      "cell_type": "markdown",
      "metadata": {},
      "source": [
        "Cre un bucle para imprimir solo datos sobre la Luna que estén relacionados con las palabras clave definidas anteriormente:"
      ]
    },
    {
      "cell_type": "code",
      "execution_count": 19,
      "metadata": {},
      "outputs": [
        {
          "name": "stdout",
          "output_type": "stream",
          "text": [
            " \n",
            "On average, the Moon moves 4cm away from the Earth every year\n",
            " The highest daylight temperature of the Moon is 127 C\n"
          ]
        }
      ],
      "source": [
        "# Ciclo for para recorrer la cadena\n",
        "for i in range(len(oraciones)):\n",
        "    for j in range(len(palabras_pista)):\n",
        "        if palabras_pista[j] in oraciones[i]:\n",
        "            print(oraciones[i])\n",
        "            break"
      ]
    },
    {
      "cell_type": "markdown",
      "metadata": {},
      "source": [
        "Finalmente, actualiza el bucle(ciclo) para cambiar _C_ a _Celsius_:"
      ]
    },
    {
      "cell_type": "code",
      "execution_count": 24,
      "metadata": {},
      "outputs": [
        {
          "name": "stdout",
          "output_type": "stream",
          "text": [
            " \n",
            "On average, the Moon moves 4cm away from the Earth every year\n",
            " The highest daylight temperature of the Moon is 127 Celsius\n"
          ]
        }
      ],
      "source": [
        "# Ciclo para cambiar C a Celsius\n",
        "for i in range(len(oraciones)):\n",
        "    for j in range(len(palabras_pista)):\n",
        "        if palabras_pista[j] in oraciones[i]:\n",
        "            print(oraciones[i].replace(' C', ' Celsius'))\n",
        "            break"
      ]
    },
    {
      "cell_type": "markdown",
      "metadata": {},
      "source": [
        "> Recuerda: Lo importante es intentarlo, puedes auxiliarte de internet, libros, etc. El objetivo de una kata es la comprobación de la comprensión de la lección y su aplicación inmediata a la resolución de problemas. Go for it!"
      ]
    },
    {
      "cell_type": "markdown",
      "metadata": {},
      "source": [
        "# Ejercicio 2: Formateando Cadenas\n",
        "\n",
        "Saber cómo dar formato a las cadenas es esencial cuando se presenta información de un programa. Hay algunas maneras diferentes de lograr esto en Python. En este ejercicio, se utilizan variables que contienen datos clave sobre la gravedad en varias lunas y luego se utilizan para dar formato e imprimir la información.\n",
        "\n",
        "El formato tiene que acomodar información sobre otras lunas, por lo que debe ser genérico.\n",
        "\n",
        "En lugar de reemplazar las variables en una cadena larga como parte de un párrafo, utiliza la información para presentarla en un formato tabular. El resultado debería verse así:\n",
        "\n",
        "```\n",
        "Gravity Facts about Ganymede\n",
        "-------------------------------------------------------------------------------\n",
        "Planet Name: Mars\n",
        "Gravity on Ganymede: 1.4300000000000002 m/s2\n",
        "```"
      ]
    },
    {
      "cell_type": "code",
      "execution_count": 37,
      "metadata": {},
      "outputs": [],
      "source": [
        "# Datos con los que vas a trabajar\n",
        "name = \"Moon\"\n",
        "gravity = 0.00162 # in kms\n",
        "planet = \"Earth\""
      ]
    },
    {
      "cell_type": "markdown",
      "metadata": {},
      "source": [
        "Primero, crea un título para el texto. Debido a que este texto trata sobre la gravedad en la Tierra y la Luna, úsalo para crear un título significativo. Utiliza las variables en lugar de escribir."
      ]
    },
    {
      "cell_type": "code",
      "execution_count": 46,
      "metadata": {},
      "outputs": [],
      "source": [
        "# Creamos el título\n",
        "title=f'Data about gravity in {name}'"
      ]
    },
    {
      "cell_type": "markdown",
      "metadata": {},
      "source": [
        "Ahora crea una plantilla de cadena multilínea para contener el resto de la información. En lugar de usar kilómetros, debes convertir la distancia a metros multiplicando por 1,000."
      ]
    },
    {
      "cell_type": "code",
      "execution_count": 44,
      "metadata": {},
      "outputs": [],
      "source": [
        "# Creamos la plantilla\n",
        "plantilla = f\"\"\"{'-'*80} \n",
        "Name of the planet: {planet} \n",
        "Gravity in {name}: {gravity * 1000} m/s2 \n",
        "\"\"\""
      ]
    },
    {
      "cell_type": "markdown",
      "metadata": {},
      "source": [
        "Finalmente, usa ambas variables para unir el título y los hechos."
      ]
    },
    {
      "cell_type": "code",
      "execution_count": 47,
      "metadata": {},
      "outputs": [
        {
          "name": "stdout",
          "output_type": "stream",
          "text": [
            "Data About Gravity In Moon\n",
            "-------------------------------------------------------------------------------- \n",
            "Name of the planet: Earth \n",
            "Gravity in Moon: 1.6199999999999999 m/s2 \n",
            "\n"
          ]
        }
      ],
      "source": [
        "# Unión de ambas cadenas\n",
        "union=f'{title.title()}\\n{plantilla}'\n",
        "print(union)"
      ]
    },
    {
      "cell_type": "markdown",
      "metadata": {},
      "source": [
        "Ahora usa información de una luna diferente para ver si la plantilla todavía funciona.\n",
        "\n",
        "Datos muestra: \n",
        "```\n",
        "planeta = 'Marte '\n",
        "gravedad  = 0.00143\n",
        "nombre = 'Ganímedes'\n",
        "```"
      ]
    },
    {
      "cell_type": "code",
      "execution_count": 48,
      "metadata": {},
      "outputs": [
        {
          "name": "stdout",
          "output_type": "stream",
          "text": [
            "Data About Gravity In Moon\n",
            "-------------------------------------------------------------------------------- \n",
            "Name of the planet: Earth \n",
            "Gravity in Moon: 1.6199999999999999 m/s2 \n",
            "\n"
          ]
        }
      ],
      "source": [
        "# Comprueba la plantilla\n",
        "# print(nombre_plantilla)\n",
        "planet = 'Marte '\n",
        "gravity  = 0.00143\n",
        "name = 'Ganímedes'\n",
        "\n",
        "print(union)"
      ]
    },
    {
      "cell_type": "markdown",
      "metadata": {},
      "source": [
        "La salida no muestra información sobre Marte. Todavía muestra información sobre la Luna. Esto sucede porque las cadenas f están ansiosas en su evaluación, por lo que las variables una vez asignadas no se pueden reasignar. Para evitar este problema, vuelva a hacer la plantilla para utilizar .format():"
      ]
    },
    {
      "cell_type": "code",
      "execution_count": 54,
      "metadata": {},
      "outputs": [],
      "source": [
        "# Nueva plantilla\n",
        "nueva_plantilla=\"\"\"\n",
        "Data about gravity in {name}\n",
        "----------------------------------------------------------------------\n",
        "Name of the planet: {planet} \n",
        "Gravity in {name}: {gravity} m/s2 \n",
        "\"\"\""
      ]
    },
    {
      "cell_type": "markdown",
      "metadata": {},
      "source": [
        "Debido a que .format() no permite expresiones, la gravedad en Ganímedes es incorrecta. Asegúrese de que la operación se realiza fuera de la plantilla de formato e imprima de nuevo para ver el resultado de trabajo."
      ]
    },
    {
      "cell_type": "code",
      "execution_count": 69,
      "metadata": {},
      "outputs": [
        {
          "name": "stdout",
          "output_type": "stream",
          "text": [
            "\n",
            "Data about gravity in Ganímedes\n",
            "----------------------------------------------------------------------\n",
            "Name of the planet: Marte  \n",
            "Gravity in Ganímedes: 1.4300000000000002 km/s2 \n",
            "\n"
          ]
        }
      ],
      "source": [
        "# Pista: print(nueva_plantilla.format(variables))\n",
        "print(nueva_plantilla.format(name=name, planet=planet, gravity=gravity*1000))"
      ]
    },
    {
      "cell_type": "markdown",
      "metadata": {},
      "source": [
        "Ejercicio Realizado por Armando González Martínez"
      ]
    }
  ],
  "metadata": {
    "interpreter": {
      "hash": "502cd6c3b6c9e666d195e1caff9d64ea12bf644e547a4c8fae84812082c54b6f"
    },
    "kernel_info": {
      "name": "conda-env-py37_default-py"
    },
    "kernelspec": {
      "display_name": "py37_default",
      "language": "python",
      "name": "python3"
    },
    "language_info": {
      "codemirror_mode": {
        "name": "ipython",
        "version": 3
      },
      "file_extension": ".py",
      "mimetype": "text/x-python",
      "name": "python",
      "nbconvert_exporter": "python",
      "pygments_lexer": "ipython3",
      "version": "3.10.2"
    },
    "nteract": {
      "version": "nteract-front-end@1.0.0"
    },
    "orig_nbformat": 4
  },
  "nbformat": 4,
  "nbformat_minor": 2
}
